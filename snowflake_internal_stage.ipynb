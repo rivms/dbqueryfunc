{
 "cells": [
  {
   "cell_type": "code",
   "execution_count": 28,
   "metadata": {},
   "outputs": [],
   "source": [
    "import logging\n",
    "import sys\n",
    "from IPython.display import Markdown, display"
   ]
  },
  {
   "cell_type": "code",
   "execution_count": 29,
   "metadata": {},
   "outputs": [
    {
     "name": "stdout",
     "output_type": "stream",
     "text": [
      "Installing packages to c:\\anaconda3\\envs\\pydurable\\python.exe\n"
     ]
    }
   ],
   "source": [
    "print(f\"Installing packages to {sys.executable}\")"
   ]
  },
  {
   "cell_type": "code",
   "execution_count": 30,
   "metadata": {},
   "outputs": [],
   "source": [
    "!{sys.executable} -m pip install snowflake-connector-python[pandas]\n",
    "#!{sys.executable} -m pip install azure-identity\n",
    "#!{sys.executable} -m pip install azure-storage-blob\n",
    "#!{sys.executable} -m pip install python-dotenv"
   ]
  },
  {
   "cell_type": "code",
   "execution_count": 31,
   "metadata": {},
   "outputs": [],
   "source": [
    "import snowflake.connector\n",
    "import time\n",
    "import os"
   ]
  },
  {
   "cell_type": "markdown",
   "metadata": {},
   "source": [
    "# Setup Snowflake Connection"
   ]
  },
  {
   "cell_type": "code",
   "execution_count": 32,
   "metadata": {},
   "outputs": [],
   "source": [
    "USER = \"\"\n",
    "PASSWORD = \"\"\n",
    "ACCOUNT = \"\"\n",
    "WAREHOUSE = \"\"\n",
    "DATABASE = \"\"\n",
    "SCHEMA = \"\""
   ]
  },
  {
   "cell_type": "code",
   "execution_count": 33,
   "metadata": {},
   "outputs": [],
   "source": [
    "conn = snowflake.connector.connect(\n",
    "    user=USER,\n",
    "    password=PASSWORD,\n",
    "    account=ACCOUNT,\n",
    "    warehouse=WAREHOUSE,\n",
    "    database=DATABASE,\n",
    "    schema=SCHEMA\n",
    ")"
   ]
  },
  {
   "cell_type": "markdown",
   "metadata": {},
   "source": [
    "# SQL query to Run"
   ]
  },
  {
   "cell_type": "code",
   "execution_count": 34,
   "metadata": {},
   "outputs": [],
   "source": [
    "sql_query = f\"SELECT * FROM LINEITEM WHERE L_ORDERKEY >= 0 AND L_ORDERKEY <= 40000000\""
   ]
  },
  {
   "cell_type": "code",
   "execution_count": 35,
   "metadata": {},
   "outputs": [
    {
     "data": {
      "text/plain": [
       "'e7cf6d1dfd04487581dc1ecfe9d01d93'"
      ]
     },
     "execution_count": 35,
     "metadata": {},
     "output_type": "execute_result"
    }
   ],
   "source": [
    "import uuid\n",
    "\n",
    "staging_folder = str(uuid.uuid4().hex) \n",
    "staging_folder"
   ]
  },
  {
   "cell_type": "code",
   "execution_count": 36,
   "metadata": {},
   "outputs": [
    {
     "data": {
      "text/plain": [
       "'copy into @~/e7cf6d1dfd04487581dc1ecfe9d01d93 from (SELECT * FROM LINEITEM WHERE L_ORDERKEY >= 0 AND L_ORDERKEY <= 40000000) FILE_FORMAT=(TYPE=parquet, COMPRESSION=SNAPPY) MAX_FILE_SIZE = 268435456 INCLUDE_QUERY_ID=true;'"
      ]
     },
     "execution_count": 36,
     "metadata": {},
     "output_type": "execute_result"
    }
   ],
   "source": [
    "sub_query = \"SELECT * FROM LINEITEM WHERE L_ORDERKEY >= 0 AND L_ORDERKEY <= 40000000\"\n",
    "staging_query_lines = [f\"copy into @~/{staging_folder}\",\n",
    "    f\"from ({sql_query})\",\n",
    "    \"FILE_FORMAT=(TYPE=parquet, COMPRESSION=SNAPPY)\",\n",
    "    \"MAX_FILE_SIZE = 268435456\",\n",
    "    \"INCLUDE_QUERY_ID=true;\"\n",
    "]\n",
    "\n",
    "staging_query = \" \".join(staging_query_lines)\n",
    "staging_query"
   ]
  },
  {
   "cell_type": "markdown",
   "metadata": {},
   "source": [
    "# Create Download Folder"
   ]
  },
  {
   "cell_type": "code",
   "execution_count": 37,
   "metadata": {},
   "outputs": [],
   "source": [
    "base_folder = f\".\"\n",
    "\n",
    "local_folder = f\"{base_folder}/{staging_folder}\""
   ]
  },
  {
   "cell_type": "code",
   "execution_count": 38,
   "metadata": {},
   "outputs": [],
   "source": [
    "import os \n",
    "\n",
    "if not os.path.exists(local_folder):\n",
    "    os.mkdir(local_folder)\n",
    "    print(f\"Created local folder for downloaded files {local_folder}\")\n",
    "else:\n",
    "    print(f\"Local folder exists for downloaded files {local_folder} (absolute path: {os.path.abspath(local_folder)})\")"
   ]
  },
  {
   "cell_type": "markdown",
   "metadata": {},
   "source": [
    "# Query to Download Files"
   ]
  },
  {
   "cell_type": "code",
   "execution_count": 39,
   "metadata": {},
   "outputs": [
    {
     "data": {
      "text/plain": [
       "'GET @~/e7cf6d1dfd04487581dc1ecfe9d01d93 file://./e7cf6d1dfd04487581dc1ecfe9d01d93;'"
      ]
     },
     "execution_count": 39,
     "metadata": {},
     "output_type": "execute_result"
    }
   ],
   "source": [
    "get_query = f\"GET @~/{staging_folder} file://{local_folder};\"\n",
    "get_query"
   ]
  },
  {
   "cell_type": "markdown",
   "metadata": {},
   "source": [
    "# Query to Remove Staged Files"
   ]
  },
  {
   "cell_type": "code",
   "execution_count": 40,
   "metadata": {},
   "outputs": [
    {
     "data": {
      "text/plain": [
       "'RM @~/e7cf6d1dfd04487581dc1ecfe9d01d93'"
      ]
     },
     "execution_count": 40,
     "metadata": {},
     "output_type": "execute_result"
    }
   ],
   "source": [
    "rm_query = f\"RM @~/{staging_folder}\"\n",
    "rm_query"
   ]
  },
  {
   "cell_type": "markdown",
   "metadata": {},
   "source": [
    "# Run Queries against Database"
   ]
  },
  {
   "cell_type": "code",
   "execution_count": 41,
   "metadata": {},
   "outputs": [
    {
     "name": "stdout",
     "output_type": "stream",
     "text": [
      "CPU times: total: 0 ns\n",
      "Wall time: 40 s\n"
     ]
    },
    {
     "data": {
      "text/plain": [
       "<snowflake.connector.cursor.SnowflakeCursor at 0x1bc96be1c90>"
      ]
     },
     "execution_count": 41,
     "metadata": {},
     "output_type": "execute_result"
    }
   ],
   "source": [
    "%%time\n",
    "print(f\"Running staging query: {staging_query}\")\n",
    "conn.cursor().execute(staging_query)"
   ]
  },
  {
   "cell_type": "code",
   "execution_count": 42,
   "metadata": {},
   "outputs": [
    {
     "name": "stdout",
     "output_type": "stream",
     "text": [
      "Running query to download files: GET @~/e7cf6d1dfd04487581dc1ecfe9d01d93 file://./e7cf6d1dfd04487581dc1ecfe9d01d93;\n",
      "CPU times: total: 1min 17s\n",
      "Wall time: 7min 22s\n"
     ]
    },
    {
     "data": {
      "text/plain": [
       "<snowflake.connector.cursor.SnowflakeCursor at 0x1bc965b4af0>"
      ]
     },
     "execution_count": 42,
     "metadata": {},
     "output_type": "execute_result"
    }
   ],
   "source": [
    "%%time\n",
    "print(f\"Running query to download files: {get_query}\")\n",
    "conn.cursor().execute(get_query)"
   ]
  },
  {
   "cell_type": "code",
   "execution_count": 45,
   "metadata": {},
   "outputs": [
    {
     "name": "stdout",
     "output_type": "stream",
     "text": [
      "Files downloaded to c:\\source_code\\github.com\\rivms\\dbqueryfunc\\e7cf6d1dfd04487581dc1ecfe9d01d93:\n",
      "data_01aeec3f-0001-5699-0004-725600015032_0_0_0.snappy.parquet: 203.49921989440918 MB\n",
      "data_01aeec3f-0001-5699-0004-725600015032_0_1_0.snappy.parquet: 202.16798973083496 MB\n",
      "data_01aeec3f-0001-5699-0004-725600015032_0_2_0.snappy.parquet: 201.43767833709717 MB\n",
      "data_01aeec3f-0001-5699-0004-725600015032_0_3_0.snappy.parquet: 213.98997497558594 MB\n",
      "data_01aeec3f-0001-5699-0004-725600015032_0_4_0.snappy.parquet: 199.45056819915771 MB\n",
      "data_01aeec3f-0001-5699-0004-725600015032_0_5_0.snappy.parquet: 194.73483848571777 MB\n",
      "data_01aeec3f-0001-5699-0004-725600015032_0_6_0.snappy.parquet: 206.14772701263428 MB\n",
      "data_01aeec3f-0001-5699-0004-725600015032_0_7_0.snappy.parquet: 202.4014482498169 MB\n"
     ]
    }
   ],
   "source": [
    "print(f\"Files downloaded to {os.path.abspath(local_folder)}:\")\n",
    "\n",
    "for f in os.listdir(local_folder):\n",
    "    file_path = os.path.join(local_folder, f)\n",
    "\n",
    "    if os.path.isfile(file_path):\n",
    "        os.path.getsize(file_path)\n",
    "        file_size_mb = os.path.getsize(file_path)/(1024*1024)\n",
    "        print(f\"{f}: {file_size_mb} MB\")"
   ]
  },
  {
   "cell_type": "code",
   "execution_count": 43,
   "metadata": {},
   "outputs": [
    {
     "name": "stdout",
     "output_type": "stream",
     "text": [
      "Running query to remove staging files: GET @~/e7cf6d1dfd04487581dc1ecfe9d01d93 file://./e7cf6d1dfd04487581dc1ecfe9d01d93;\n",
      "CPU times: total: 844 ms\n",
      "Wall time: 3.34 s\n"
     ]
    },
    {
     "data": {
      "text/plain": [
       "<snowflake.connector.cursor.SnowflakeCursor at 0x1bc96daeb90>"
      ]
     },
     "execution_count": 43,
     "metadata": {},
     "output_type": "execute_result"
    }
   ],
   "source": [
    "%%time\n",
    "print(f\"Running query to remove staging files: {get_query}\")\n",
    "\n",
    "conn.cursor().execute(rm_query)"
   ]
  },
  {
   "cell_type": "code",
   "execution_count": 44,
   "metadata": {},
   "outputs": [],
   "source": [
    "# Close the cursor and the connection.\n",
    "conn.close()"
   ]
  },
  {
   "cell_type": "code",
   "execution_count": null,
   "metadata": {},
   "outputs": [],
   "source": []
  }
 ],
 "metadata": {
  "kernelspec": {
   "display_name": "pydurable",
   "language": "python",
   "name": "python3"
  },
  "language_info": {
   "codemirror_mode": {
    "name": "ipython",
    "version": 3
   },
   "file_extension": ".py",
   "mimetype": "text/x-python",
   "name": "python",
   "nbconvert_exporter": "python",
   "pygments_lexer": "ipython3",
   "version": "3.10.12"
  },
  "orig_nbformat": 4
 },
 "nbformat": 4,
 "nbformat_minor": 2
}
